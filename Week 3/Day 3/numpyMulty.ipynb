{
 "cells": [
  {
   "cell_type": "markdown",
   "metadata": {},
   "source": [
    "Libraries"
   ]
  },
  {
   "cell_type": "code",
   "execution_count": 10,
   "metadata": {},
   "outputs": [],
   "source": [
    "import numpy as np\n",
    "import time"
   ]
  },
  {
   "cell_type": "markdown",
   "metadata": {},
   "source": [
    "Basic"
   ]
  },
  {
   "cell_type": "code",
   "execution_count": 11,
   "metadata": {},
   "outputs": [
    {
     "name": "stdout",
     "output_type": "stream",
     "text": [
      "[1 2 3 4 5]\n",
      "[6 7 8 9 0]\n",
      "[ 6. 14. 24. 36.  0.]\n",
      "Total Time Taken : 0.00011086463928222656\n"
     ]
    }
   ],
   "source": [
    "start = time.time()\n",
    "arr1 = np.array([1,2,3,4,5])\n",
    "arr2 = np.array([6,7,8,9,0])\n",
    "\n",
    "arr3 = np.empty(len(arr1))\n",
    "for i in range(len(arr1)):\n",
    "    arr3[i] = arr1[i] * arr2[i]\n",
    "\n",
    "\n",
    "t = time.time() - start\n",
    "print(arr1)\n",
    "print(arr2)\n",
    "print(arr3)\n",
    "print(\"Total Time Taken :\",t)"
   ]
  },
  {
   "cell_type": "markdown",
   "metadata": {},
   "source": [
    "Built-in"
   ]
  },
  {
   "cell_type": "code",
   "execution_count": 12,
   "metadata": {},
   "outputs": [
    {
     "name": "stdout",
     "output_type": "stream",
     "text": [
      "[1 2 3 4 5]\n",
      "[6 7 8 9 0]\n",
      "[ 6 14 24 36  0]\n",
      "Total Time Taken : 8.606910705566406e-05\n"
     ]
    }
   ],
   "source": [
    "start = time.time()\n",
    "arr1 = np.array([1,2,3,4,5])\n",
    "arr2 = np.array([6,7,8,9,0])\n",
    "\n",
    "arr3 = np.multiply(arr1, arr2)\n",
    "\n",
    "t = time.time() - start\n",
    "print(arr1)\n",
    "print(arr2)\n",
    "print(arr3)\n",
    "print(\"Total Time Taken :\",t)"
   ]
  }
 ],
 "metadata": {
  "kernelspec": {
   "display_name": "Python 3",
   "language": "python",
   "name": "python3"
  },
  "language_info": {
   "codemirror_mode": {
    "name": "ipython",
    "version": 3
   },
   "file_extension": ".py",
   "mimetype": "text/x-python",
   "name": "python",
   "nbconvert_exporter": "python",
   "pygments_lexer": "ipython3",
   "version": "3.10.12"
  }
 },
 "nbformat": 4,
 "nbformat_minor": 2
}
