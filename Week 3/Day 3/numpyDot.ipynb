{
 "cells": [
  {
   "cell_type": "markdown",
   "metadata": {},
   "source": [
    "Libraries"
   ]
  },
  {
   "cell_type": "code",
   "execution_count": 1,
   "metadata": {},
   "outputs": [],
   "source": [
    "import numpy as np\n",
    "import time"
   ]
  },
  {
   "cell_type": "markdown",
   "metadata": {},
   "source": [
    "Basic"
   ]
  },
  {
   "cell_type": "code",
   "execution_count": 2,
   "metadata": {},
   "outputs": [
    {
     "name": "stdout",
     "output_type": "stream",
     "text": [
      "[1 2 3 4 5]\n",
      "[6 7 8 9 0]\n",
      "80.0\n",
      "Total Time Taken : 0.00017547607421875\n"
     ]
    }
   ],
   "source": [
    "start = time.time()\n",
    "arr1 = np.array([1,2,3,4,5])\n",
    "arr2 = np.array([6,7,8,9,0])\n",
    "\n",
    "dot = 0\n",
    "arr3 = np.empty(len(arr1))\n",
    "for i in range(len(arr1)):\n",
    "    arr3[i] = arr1[i] * arr2[i]\n",
    "\n",
    "for i in range(len(arr3)):\n",
    "    dot+= arr3[i]\n",
    "\n",
    "t = time.time() - start\n",
    "print(arr1)\n",
    "print(arr2)\n",
    "print(dot)\n",
    "print(\"Total Time Taken :\",t)"
   ]
  },
  {
   "cell_type": "markdown",
   "metadata": {},
   "source": [
    "Built-In"
   ]
  },
  {
   "cell_type": "code",
   "execution_count": 3,
   "metadata": {},
   "outputs": [
    {
     "name": "stdout",
     "output_type": "stream",
     "text": [
      "[1 2 3 4 5]\n",
      "[6 7 8 9 0]\n",
      "80\n",
      "Total Time Taken : 0.00011730194091796875\n"
     ]
    }
   ],
   "source": [
    "start = time.time()\n",
    "arr1 = np.array([1,2,3,4,5])\n",
    "arr2 = np.array([6,7,8,9,0])\n",
    "\n",
    "dot = np.dot(arr1, arr2)\n",
    "\n",
    "t = time.time() - start\n",
    "print(arr1)\n",
    "print(arr2)\n",
    "print(dot)\n",
    "print(\"Total Time Taken :\",t)"
   ]
  }
 ],
 "metadata": {
  "kernelspec": {
   "display_name": "Python 3",
   "language": "python",
   "name": "python3"
  },
  "language_info": {
   "codemirror_mode": {
    "name": "ipython",
    "version": 3
   },
   "file_extension": ".py",
   "mimetype": "text/x-python",
   "name": "python",
   "nbconvert_exporter": "python",
   "pygments_lexer": "ipython3",
   "version": "3.10.12"
  }
 },
 "nbformat": 4,
 "nbformat_minor": 2
}
